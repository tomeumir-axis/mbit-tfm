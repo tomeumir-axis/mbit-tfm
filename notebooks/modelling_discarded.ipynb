{
 "cells": [
  {
   "cell_type": "markdown",
   "id": "mexican-tunnel",
   "metadata": {},
   "source": [
    "\n",
    "# MBIT School\n",
    "\n",
    "## Executive Master en Data Science (2020-2021)\n",
    "\n",
    "  \n",
    "by\n",
    "\n",
    "*Nuria Espadas*  \n",
    "*Mireia Vecino*  \n",
    "*Tomeu Mir*  \n",
    "\n",
    "### Notebook: modelling excluded\n",
    "\n",
    "This workbook uses the datasets created during the previous analysis (EDA and another modelling workbook) to evaluate different predictive models. "
   ]
  },
  {
   "cell_type": "code",
   "execution_count": 1,
   "id": "blank-tobacco",
   "metadata": {},
   "outputs": [],
   "source": [
    "import pandas as pd\n",
    "import numpy as np\n",
    "from sklearn.metrics import accuracy_score\n",
    "from sklearn.metrics import classification_report\n",
    "from sklearn.metrics import confusion_matrix"
   ]
  },
  {
   "cell_type": "code",
   "execution_count": 2,
   "id": "suitable-carrier",
   "metadata": {},
   "outputs": [],
   "source": [
    "import warnings\n",
    "warnings.filterwarnings(\"ignore\")"
   ]
  },
  {
   "cell_type": "code",
   "execution_count": 3,
   "id": "diverse-concern",
   "metadata": {},
   "outputs": [],
   "source": [
    "DATA_PATH = '../data/'"
   ]
  },
  {
   "cell_type": "code",
   "execution_count": 4,
   "id": "structured-yeast",
   "metadata": {},
   "outputs": [],
   "source": [
    "df_train_and_test= pd.read_csv('data/df_train_and_test.csv')"
   ]
  },
  {
   "cell_type": "code",
   "execution_count": 5,
   "id": "administrative-baseball",
   "metadata": {},
   "outputs": [
    {
     "data": {
      "text/plain": [
       "(9020, 14)"
      ]
     },
     "execution_count": 5,
     "metadata": {},
     "output_type": "execute_result"
    }
   ],
   "source": [
    "df_train_and_test = pd.read_csv('data/df_train_and_test.csv')\n",
    "cols_to_exclude=['Unnamed: 0',\n",
    "                 'I_TOTAL_SALES_SC',\n",
    "                'SOURCE_COUNTRY_CODE',\n",
    "                'I_BOOKINGDATE',\n",
    "                'I_STARTDATE',\n",
    "                 'dir',\n",
    "                 'presMax'\n",
    "               ]\n",
    "df_train_and_test.drop(cols_to_exclude, axis=1, inplace=True)\n",
    "df_train_and_test.shape"
   ]
  },
  {
   "cell_type": "code",
   "execution_count": 6,
   "id": "chemical-tonight",
   "metadata": {},
   "outputs": [
    {
     "name": "stdout",
     "output_type": "stream",
     "text": [
      "<class 'pandas.core.frame.DataFrame'>\n",
      "RangeIndex: 9020 entries, 0 to 9019\n",
      "Data columns (total 14 columns):\n",
      " #   Column               Non-Null Count  Dtype  \n",
      "---  ------               --------------  -----  \n",
      " 0   I_DAYSBEFOREBOOK     9020 non-null   int64  \n",
      " 1   STOCK_CODE           9020 non-null   object \n",
      " 2   STOCK_NAME           9020 non-null   object \n",
      " 3   ADT                  9020 non-null   int64  \n",
      " 4   CHD                  9020 non-null   int64  \n",
      " 5   INF                  9020 non-null   int64  \n",
      " 6   LEAD_PAX_AGE         9020 non-null   float64\n",
      " 7   prec                 9020 non-null   float64\n",
      " 8   tmax                 9020 non-null   float64\n",
      " 9   velmedia             9020 non-null   float64\n",
      " 10  sol                  9020 non-null   float64\n",
      " 11  i_booking_dayofweek  9020 non-null   int64  \n",
      " 12  i_start_dayofweek    9020 non-null   int64  \n",
      " 13  i_avg_sales          9020 non-null   float64\n",
      "dtypes: float64(6), int64(6), object(2)\n",
      "memory usage: 986.7+ KB\n"
     ]
    }
   ],
   "source": [
    "df_train_and_test.info()"
   ]
  },
  {
   "cell_type": "code",
   "execution_count": 7,
   "id": "neutral-audio",
   "metadata": {},
   "outputs": [
    {
     "data": {
      "text/html": [
       "<div>\n",
       "<style scoped>\n",
       "    .dataframe tbody tr th:only-of-type {\n",
       "        vertical-align: middle;\n",
       "    }\n",
       "\n",
       "    .dataframe tbody tr th {\n",
       "        vertical-align: top;\n",
       "    }\n",
       "\n",
       "    .dataframe thead th {\n",
       "        text-align: right;\n",
       "    }\n",
       "</style>\n",
       "<table border=\"1\" class=\"dataframe\">\n",
       "  <thead>\n",
       "    <tr style=\"text-align: right;\">\n",
       "      <th></th>\n",
       "      <th>I_DAYSBEFOREBOOK</th>\n",
       "      <th>STOCK_CODE</th>\n",
       "      <th>STOCK_NAME</th>\n",
       "      <th>ADT</th>\n",
       "      <th>CHD</th>\n",
       "      <th>INF</th>\n",
       "      <th>LEAD_PAX_AGE</th>\n",
       "      <th>prec</th>\n",
       "      <th>tmax</th>\n",
       "      <th>velmedia</th>\n",
       "      <th>sol</th>\n",
       "      <th>i_booking_dayofweek</th>\n",
       "      <th>i_start_dayofweek</th>\n",
       "      <th>i_avg_sales</th>\n",
       "    </tr>\n",
       "  </thead>\n",
       "  <tbody>\n",
       "    <tr>\n",
       "      <th>0</th>\n",
       "      <td>2</td>\n",
       "      <td>XESTCIBCSG</td>\n",
       "      <td>Teide Masca (Grand Tour)</td>\n",
       "      <td>2</td>\n",
       "      <td>0</td>\n",
       "      <td>0</td>\n",
       "      <td>41.000000</td>\n",
       "      <td>0.0</td>\n",
       "      <td>31.7</td>\n",
       "      <td>7.5</td>\n",
       "      <td>11.0</td>\n",
       "      <td>1</td>\n",
       "      <td>6</td>\n",
       "      <td>36.0</td>\n",
       "    </tr>\n",
       "    <tr>\n",
       "      <th>1</th>\n",
       "      <td>0</td>\n",
       "      <td>XESTCIBCSG</td>\n",
       "      <td>Teide Masca (Grand Tour)</td>\n",
       "      <td>2</td>\n",
       "      <td>0</td>\n",
       "      <td>0</td>\n",
       "      <td>48.794693</td>\n",
       "      <td>0.2</td>\n",
       "      <td>24.9</td>\n",
       "      <td>7.2</td>\n",
       "      <td>1.9</td>\n",
       "      <td>2</td>\n",
       "      <td>2</td>\n",
       "      <td>36.0</td>\n",
       "    </tr>\n",
       "    <tr>\n",
       "      <th>2</th>\n",
       "      <td>4</td>\n",
       "      <td>XESTCIBPNI</td>\n",
       "      <td>Freebird (3H Vip Exclusive)</td>\n",
       "      <td>2</td>\n",
       "      <td>1</td>\n",
       "      <td>0</td>\n",
       "      <td>44.000000</td>\n",
       "      <td>0.0</td>\n",
       "      <td>27.1</td>\n",
       "      <td>6.9</td>\n",
       "      <td>10.8</td>\n",
       "      <td>0</td>\n",
       "      <td>6</td>\n",
       "      <td>41.0</td>\n",
       "    </tr>\n",
       "    <tr>\n",
       "      <th>3</th>\n",
       "      <td>2</td>\n",
       "      <td>PESTCI4HYS</td>\n",
       "      <td>Gomera Safari Tour</td>\n",
       "      <td>3</td>\n",
       "      <td>0</td>\n",
       "      <td>0</td>\n",
       "      <td>67.000000</td>\n",
       "      <td>0.0</td>\n",
       "      <td>25.5</td>\n",
       "      <td>9.2</td>\n",
       "      <td>4.8</td>\n",
       "      <td>3</td>\n",
       "      <td>5</td>\n",
       "      <td>95.0</td>\n",
       "    </tr>\n",
       "    <tr>\n",
       "      <th>4</th>\n",
       "      <td>3</td>\n",
       "      <td>XESTCIBCTW</td>\n",
       "      <td>Music Hall Tavern</td>\n",
       "      <td>2</td>\n",
       "      <td>0</td>\n",
       "      <td>0</td>\n",
       "      <td>64.000000</td>\n",
       "      <td>0.0</td>\n",
       "      <td>22.9</td>\n",
       "      <td>8.9</td>\n",
       "      <td>11.3</td>\n",
       "      <td>0</td>\n",
       "      <td>3</td>\n",
       "      <td>39.0</td>\n",
       "    </tr>\n",
       "  </tbody>\n",
       "</table>\n",
       "</div>"
      ],
      "text/plain": [
       "   I_DAYSBEFOREBOOK  STOCK_CODE                   STOCK_NAME  ADT  CHD  INF  \\\n",
       "0                 2  XESTCIBCSG     Teide Masca (Grand Tour)    2    0    0   \n",
       "1                 0  XESTCIBCSG     Teide Masca (Grand Tour)    2    0    0   \n",
       "2                 4  XESTCIBPNI  Freebird (3H Vip Exclusive)    2    1    0   \n",
       "3                 2  PESTCI4HYS          Gomera Safari Tour     3    0    0   \n",
       "4                 3  XESTCIBCTW            Music Hall Tavern    2    0    0   \n",
       "\n",
       "   LEAD_PAX_AGE  prec  tmax  velmedia   sol  i_booking_dayofweek  \\\n",
       "0     41.000000   0.0  31.7       7.5  11.0                    1   \n",
       "1     48.794693   0.2  24.9       7.2   1.9                    2   \n",
       "2     44.000000   0.0  27.1       6.9  10.8                    0   \n",
       "3     67.000000   0.0  25.5       9.2   4.8                    3   \n",
       "4     64.000000   0.0  22.9       8.9  11.3                    0   \n",
       "\n",
       "   i_start_dayofweek  i_avg_sales  \n",
       "0                  6         36.0  \n",
       "1                  2         36.0  \n",
       "2                  6         41.0  \n",
       "3                  5         95.0  \n",
       "4                  3         39.0  "
      ]
     },
     "execution_count": 7,
     "metadata": {},
     "output_type": "execute_result"
    }
   ],
   "source": [
    "df_train_and_test.head()"
   ]
  },
  {
   "cell_type": "markdown",
   "id": "artistic-channels",
   "metadata": {},
   "source": [
    "Features excluded for modeling"
   ]
  },
  {
   "cell_type": "code",
   "execution_count": 8,
   "id": "informative-secretary",
   "metadata": {},
   "outputs": [],
   "source": [
    "target =['STOCK_CODE','STOCK_NAME']"
   ]
  },
  {
   "cell_type": "markdown",
   "id": "brilliant-guess",
   "metadata": {},
   "source": [
    "We divide our datasey it in training and test"
   ]
  },
  {
   "cell_type": "code",
   "execution_count": 9,
   "id": "polish-lesson",
   "metadata": {},
   "outputs": [],
   "source": [
    "from sklearn.model_selection import train_test_split\n",
    "X_train, X_test, y_train, y_test=train_test_split(df_train_and_test.drop(target, axis=1),\n",
    "                                                  df_train_and_test[\"STOCK_CODE\"], \n",
    "                                                  test_size=0.3, \n",
    "                                                  random_state=1)"
   ]
  },
  {
   "cell_type": "markdown",
   "id": "forced-possible",
   "metadata": {},
   "source": [
    "Let's try different classification algorithms to see how they work with our dataset.\n",
    "\n",
    "To further refine the algorithms, we will perform different transformations on the data:\n",
    "- Standardising\n",
    "- Principal Component Analysis (PCA)\n",
    "- Kernel principal component analysis (KPCA)\n",
    "\n",
    "**Standardising**\n",
    "Standardization of a dataset is a common requirement for many machine learning estimators: they might behave badly if the individual features do not more or less look like standard normally distributed data. Standardize features by removing the mean and scaling to unit variance"
   ]
  },
  {
   "cell_type": "code",
   "execution_count": 10,
   "id": "aerial-funds",
   "metadata": {},
   "outputs": [],
   "source": [
    "from sklearn.preprocessing import StandardScaler\n",
    "sc_X = StandardScaler()\n",
    "X_trainS = sc_X.fit_transform(X_train)\n",
    "X_testS = sc_X.transform(X_test)"
   ]
  },
  {
   "cell_type": "markdown",
   "id": "careful-crack",
   "metadata": {},
   "source": [
    "**Principal Component Analysis (PCA)**\n",
    "Linear dimensionality reduction using Singular Value Decomposition of the data to project it to a lower dimensional space."
   ]
  },
  {
   "cell_type": "code",
   "execution_count": 11,
   "id": "careful-thousand",
   "metadata": {},
   "outputs": [],
   "source": [
    "from sklearn.decomposition import PCA\n",
    "pca = PCA(n_components = 2)\n",
    "X_trainP = pca.fit_transform(X_train)\n",
    "X_testP = pca.transform(X_test)\n",
    "explained_variance = pca.explained_variance_ratio_"
   ]
  },
  {
   "cell_type": "markdown",
   "id": "herbal-april",
   "metadata": {},
   "source": [
    "**Kernel principal component analysis (KPCA)** Non-linear dimensionality reduction through the use of kernels"
   ]
  },
  {
   "cell_type": "code",
   "execution_count": 12,
   "id": "agreed-trust",
   "metadata": {},
   "outputs": [],
   "source": [
    "from sklearn.decomposition import KernelPCA\n",
    "kpca = KernelPCA(n_components = 2, kernel = \"rbf\")\n",
    "X_trainK = kpca.fit_transform(X_train)\n",
    "X_testK = kpca.transform(X_test)"
   ]
  },
  {
   "cell_type": "markdown",
   "id": "statistical-extra",
   "metadata": {},
   "source": [
    "### K-Nearest Neighbors (K-NN)\n",
    "It is a method that simply looks at the observations closest to the one you are trying to predict and classifies the point of interest based on the most surrounding data. It is based on the calculation of distances"
   ]
  },
  {
   "cell_type": "code",
   "execution_count": 13,
   "id": "combined-clearing",
   "metadata": {},
   "outputs": [
    {
     "name": "stdout",
     "output_type": "stream",
     "text": [
      "\n",
      "Accuracy score: 0.5136733185513673\n",
      "\n",
      "               precision    recall  f1-score   support\n",
      "\n",
      "  LESTCI4FWU       0.70      0.50      0.58        42\n",
      "  PESTCI4FLK       0.47      0.60      0.53        55\n",
      "  PESTCI4FN8       0.17      0.12      0.14        86\n",
      "  PESTCI4FNG       0.42      0.47      0.45       264\n",
      "  PESTCI4FXQ       0.37      0.62      0.46       183\n",
      "  PESTCI4HYM       0.13      0.04      0.06        93\n",
      "  PESTCI4HYS       0.99      0.90      0.94        91\n",
      "  PESTCI4IGS       0.28      0.25      0.27       106\n",
      "  PESTCI4IJM       0.90      0.59      0.71       142\n",
      "  PESTCI4KNA       0.42      0.42      0.42        48\n",
      "  PESTCI4SUG       0.24      0.09      0.13        78\n",
      "  PESTCI6CBQ       0.62      0.67      0.64        39\n",
      "  XESTCI9VN2       0.90      0.96      0.93       116\n",
      "  XESTCIB26U       0.17      0.10      0.13        49\n",
      "  XESTCIB26W       0.27      0.14      0.18        78\n",
      "  XESTCIB2R4       0.17      0.06      0.09        77\n",
      "  XESTCIB4FU       0.57      0.82      0.67       229\n",
      "  XESTCIBCSG       0.59      0.85      0.69       178\n",
      "  XESTCIBCTW       0.54      0.38      0.44        79\n",
      "  XESTCIBIDK       0.43      0.44      0.43       110\n",
      "  XESTCIBO3U       0.46      0.60      0.52       225\n",
      "  XESTCIBPNI       0.44      0.29      0.35       142\n",
      "  XESTCIBSBI       0.74      0.73      0.73       146\n",
      "  XESTCIC1JG       0.60      0.12      0.20        50\n",
      "\n",
      "    accuracy                           0.51      2706\n",
      "   macro avg       0.48      0.45      0.45      2706\n",
      "weighted avg       0.50      0.51      0.49      2706\n",
      "\n"
     ]
    }
   ],
   "source": [
    "from sklearn.neighbors import KNeighborsClassifier\n",
    "classifier = KNeighborsClassifier(n_neighbors=10, metric=\"euclidean\", p=10)\n",
    "classifier.fit(X_train,y_train)\n",
    "y_pred = classifier.predict(X_test)\n",
    "print('\\nAccuracy score:', accuracy_score(y_test, y_pred) )\n",
    "print('\\n',classification_report(y_test, y_pred))"
   ]
  },
  {
   "cell_type": "markdown",
   "id": "alpha-cookie",
   "metadata": {},
   "source": [
    "**Standardising our features**"
   ]
  },
  {
   "cell_type": "code",
   "execution_count": 14,
   "id": "lesbian-leeds",
   "metadata": {},
   "outputs": [
    {
     "name": "stdout",
     "output_type": "stream",
     "text": [
      "\n",
      "Accuracy score: 0.3617886178861789\n",
      "\n",
      "               precision    recall  f1-score   support\n",
      "\n",
      "  LESTCI4FWU       0.44      0.45      0.45        42\n",
      "  PESTCI4FLK       0.35      0.24      0.28        55\n",
      "  PESTCI4FN8       0.15      0.14      0.14        86\n",
      "  PESTCI4FNG       0.25      0.41      0.31       264\n",
      "  PESTCI4FXQ       0.26      0.42      0.32       183\n",
      "  PESTCI4HYM       0.05      0.02      0.03        93\n",
      "  PESTCI4HYS       0.75      0.64      0.69        91\n",
      "  PESTCI4IGS       0.28      0.28      0.28       106\n",
      "  PESTCI4IJM       0.53      0.43      0.47       142\n",
      "  PESTCI4KNA       0.35      0.31      0.33        48\n",
      "  PESTCI4SUG       0.11      0.03      0.04        78\n",
      "  PESTCI6CBQ       0.22      0.18      0.20        39\n",
      "  XESTCI9VN2       0.72      0.66      0.69       116\n",
      "  XESTCIB26U       0.23      0.20      0.22        49\n",
      "  XESTCIB26W       0.04      0.01      0.02        78\n",
      "  XESTCIB2R4       0.11      0.05      0.07        77\n",
      "  XESTCIB4FU       0.50      0.69      0.58       229\n",
      "  XESTCIBCSG       0.38      0.44      0.41       178\n",
      "  XESTCIBCTW       0.18      0.08      0.11        79\n",
      "  XESTCIBIDK       0.53      0.35      0.43       110\n",
      "  XESTCIBO3U       0.29      0.42      0.34       225\n",
      "  XESTCIBPNI       0.27      0.13      0.18       142\n",
      "  XESTCIBSBI       0.59      0.60      0.59       146\n",
      "  XESTCIC1JG       0.25      0.04      0.07        50\n",
      "\n",
      "    accuracy                           0.36      2706\n",
      "   macro avg       0.33      0.30      0.30      2706\n",
      "weighted avg       0.35      0.36      0.34      2706\n",
      "\n"
     ]
    }
   ],
   "source": [
    "from sklearn.neighbors import KNeighborsClassifier\n",
    "classifier = KNeighborsClassifier(n_neighbors=10, metric=\"euclidean\", p=10)\n",
    "classifier.fit(X_trainS,y_train)\n",
    "y_pred = classifier.predict(X_testS)\n",
    "print('\\nAccuracy score:', accuracy_score(y_test, y_pred) )\n",
    "print('\\n',classification_report(y_test, y_pred))"
   ]
  },
  {
   "cell_type": "markdown",
   "id": "supreme-mistake",
   "metadata": {},
   "source": [
    "**Principal Component Analysis (PCA)**"
   ]
  },
  {
   "cell_type": "code",
   "execution_count": 15,
   "id": "active-burns",
   "metadata": {},
   "outputs": [
    {
     "name": "stdout",
     "output_type": "stream",
     "text": [
      "\n",
      "Accuracy score: 0.5716925351071692\n",
      "\n",
      "               precision    recall  f1-score   support\n",
      "\n",
      "  LESTCI4FWU       0.53      0.74      0.62        42\n",
      "  PESTCI4FLK       0.76      0.64      0.69        55\n",
      "  PESTCI4FN8       0.37      0.35      0.36        86\n",
      "  PESTCI4FNG       0.65      0.72      0.68       264\n",
      "  PESTCI4FXQ       0.63      0.73      0.68       183\n",
      "  PESTCI4HYM       0.45      0.23      0.30        93\n",
      "  PESTCI4HYS       0.99      0.91      0.95        91\n",
      "  PESTCI4IGS       0.39      0.37      0.38       106\n",
      "  PESTCI4IJM       0.74      0.69      0.71       142\n",
      "  PESTCI4KNA       0.70      0.54      0.61        48\n",
      "  PESTCI4SUG       0.12      0.06      0.08        78\n",
      "  PESTCI6CBQ       0.53      0.85      0.65        39\n",
      "  XESTCI9VN2       0.91      0.96      0.93       116\n",
      "  XESTCIB26U       0.40      0.24      0.30        49\n",
      "  XESTCIB26W       0.26      0.18      0.21        78\n",
      "  XESTCIB2R4       0.20      0.10      0.14        77\n",
      "  XESTCIB4FU       0.51      0.70      0.59       229\n",
      "  XESTCIBCSG       0.81      0.87      0.83       178\n",
      "  XESTCIBCTW       0.40      0.43      0.41        79\n",
      "  XESTCIBIDK       0.39      0.30      0.34       110\n",
      "  XESTCIBO3U       0.46      0.51      0.49       225\n",
      "  XESTCIBPNI       0.45      0.53      0.49       142\n",
      "  XESTCIBSBI       0.64      0.65      0.65       146\n",
      "  XESTCIC1JG       0.36      0.18      0.24        50\n",
      "\n",
      "    accuracy                           0.57      2706\n",
      "   macro avg       0.53      0.52      0.51      2706\n",
      "weighted avg       0.55      0.57      0.56      2706\n",
      "\n"
     ]
    }
   ],
   "source": [
    "from sklearn.neighbors import KNeighborsClassifier\n",
    "classifier = KNeighborsClassifier(n_neighbors=10, metric=\"euclidean\", p=10)\n",
    "classifier.fit(X_trainP,y_train)\n",
    "y_pred = classifier.predict(X_testP)\n",
    "print('\\nAccuracy score:', accuracy_score(y_test, y_pred) )\n",
    "print('\\n',classification_report(y_test, y_pred))"
   ]
  },
  {
   "cell_type": "markdown",
   "id": "artificial-canadian",
   "metadata": {},
   "source": [
    "**Kernel principal component analysis (KPCA)**"
   ]
  },
  {
   "cell_type": "code",
   "execution_count": 16,
   "id": "advance-interstate",
   "metadata": {},
   "outputs": [
    {
     "name": "stdout",
     "output_type": "stream",
     "text": [
      "\n",
      "Accuracy score: 0.17812269031781228\n",
      "\n",
      "               precision    recall  f1-score   support\n",
      "\n",
      "  LESTCI4FWU       0.19      0.29      0.23        42\n",
      "  PESTCI4FLK       0.14      0.15      0.14        55\n",
      "  PESTCI4FN8       0.07      0.06      0.06        86\n",
      "  PESTCI4FNG       0.22      0.33      0.26       264\n",
      "  PESTCI4FXQ       0.21      0.26      0.23       183\n",
      "  PESTCI4HYM       0.00      0.00      0.00        93\n",
      "  PESTCI4HYS       0.10      0.05      0.07        91\n",
      "  PESTCI4IGS       0.11      0.10      0.11       106\n",
      "  PESTCI4IJM       0.12      0.10      0.11       142\n",
      "  PESTCI4KNA       0.08      0.04      0.05        48\n",
      "  PESTCI4SUG       0.09      0.03      0.04        78\n",
      "  PESTCI6CBQ       0.16      0.18      0.17        39\n",
      "  XESTCI9VN2       0.10      0.05      0.07       116\n",
      "  XESTCIB26U       0.16      0.12      0.14        49\n",
      "  XESTCIB26W       0.05      0.03      0.03        78\n",
      "  XESTCIB2R4       0.09      0.04      0.05        77\n",
      "  XESTCIB4FU       0.25      0.35      0.29       229\n",
      "  XESTCIBCSG       0.41      0.43      0.42       178\n",
      "  XESTCIBCTW       0.23      0.09      0.13        79\n",
      "  XESTCIBIDK       0.14      0.07      0.09       110\n",
      "  XESTCIBO3U       0.14      0.09      0.11       225\n",
      "  XESTCIBPNI       0.14      0.13      0.13       142\n",
      "  XESTCIBSBI       0.12      0.36      0.18       146\n",
      "  XESTCIC1JG       0.50      0.04      0.07        50\n",
      "\n",
      "    accuracy                           0.18      2706\n",
      "   macro avg       0.16      0.14      0.13      2706\n",
      "weighted avg       0.17      0.18      0.16      2706\n",
      "\n"
     ]
    }
   ],
   "source": [
    "from sklearn.neighbors import KNeighborsClassifier\n",
    "classifier = KNeighborsClassifier(n_neighbors=10, metric=\"minkowski\", p=2)\n",
    "classifier.fit(X_trainK,y_train)\n",
    "y_pred = classifier.predict(X_testK)\n",
    "print('\\nAccuracy score:', accuracy_score(y_test, y_pred) )\n",
    "print('\\n',classification_report(y_test, y_pred))"
   ]
  },
  {
   "cell_type": "markdown",
   "id": "documented-federal",
   "metadata": {},
   "source": [
    "The highest accuracy is achieved by transforming the data by means of a PCA, (**Accuracy: 0.5716**).  K-NN is based on the calculation of room distances, trying to predict and categorise.\n"
   ]
  },
  {
   "cell_type": "markdown",
   "id": "soviet-pixel",
   "metadata": {},
   "source": [
    "### Naive Bayes"
   ]
  },
  {
   "cell_type": "code",
   "execution_count": 17,
   "id": "enabling-exhaust",
   "metadata": {},
   "outputs": [
    {
     "name": "stdout",
     "output_type": "stream",
     "text": [
      "\n",
      "Accuracy score: 0.2058388765705839\n",
      "\n",
      "               precision    recall  f1-score   support\n",
      "\n",
      "  LESTCI4FWU       0.67      0.10      0.17        42\n",
      "  PESTCI4FLK       0.30      0.91      0.45        55\n",
      "  PESTCI4FN8       0.12      0.26      0.16        86\n",
      "  PESTCI4FNG       0.00      0.00      0.00       264\n",
      "  PESTCI4FXQ       0.00      0.00      0.00       183\n",
      "  PESTCI4HYM       0.08      0.85      0.15        93\n",
      "  PESTCI4HYS       0.82      0.84      0.83        91\n",
      "  PESTCI4IGS       0.00      0.00      0.00       106\n",
      "  PESTCI4IJM       0.00      0.00      0.00       142\n",
      "  PESTCI4KNA       0.16      0.21      0.18        48\n",
      "  PESTCI4SUG       0.17      0.01      0.02        78\n",
      "  PESTCI6CBQ       0.97      0.92      0.95        39\n",
      "  XESTCI9VN2       0.84      0.80      0.82       116\n",
      "  XESTCIB26U       0.26      0.22      0.24        49\n",
      "  XESTCIB26W       0.00      0.00      0.00        78\n",
      "  XESTCIB2R4       0.17      0.01      0.02        77\n",
      "  XESTCIB4FU       0.67      0.04      0.08       229\n",
      "  XESTCIBCSG       1.00      0.01      0.02       178\n",
      "  XESTCIBCTW       0.15      0.77      0.25        79\n",
      "  XESTCIBIDK       1.00      0.02      0.04       110\n",
      "  XESTCIBO3U       0.10      0.00      0.01       225\n",
      "  XESTCIBPNI       0.00      0.00      0.00       142\n",
      "  XESTCIBSBI       0.81      0.35      0.49       146\n",
      "  XESTCIC1JG       0.09      0.94      0.16        50\n",
      "\n",
      "    accuracy                           0.21      2706\n",
      "   macro avg       0.35      0.30      0.21      2706\n",
      "weighted avg       0.34      0.21      0.15      2706\n",
      "\n"
     ]
    }
   ],
   "source": [
    "from sklearn.naive_bayes import GaussianNB\n",
    "classifier = GaussianNB()\n",
    "classifier.fit(X_train, y_train)\n",
    "y_pred = classifier.predict(X_test)\n",
    "print('\\nAccuracy score:', accuracy_score(y_test, y_pred) )\n",
    "print('\\n',classification_report(y_test, y_pred))"
   ]
  },
  {
   "cell_type": "markdown",
   "id": "parliamentary-allah",
   "metadata": {},
   "source": [
    "With different CLASIFICADORES and different metrics, the highest **accuracy** we get is this one here. This model applying no treatment to the data gives us enough confidence.\n",
    "\n",
    "**Standardising our features**"
   ]
  },
  {
   "cell_type": "code",
   "execution_count": 18,
   "id": "dependent-receiver",
   "metadata": {},
   "outputs": [
    {
     "name": "stdout",
     "output_type": "stream",
     "text": [
      "\n",
      "Accuracy score: 0.19549150036954915\n",
      "\n",
      "               precision    recall  f1-score   support\n",
      "\n",
      "  LESTCI4FWU       0.50      0.05      0.09        42\n",
      "  PESTCI4FLK       0.30      0.91      0.45        55\n",
      "  PESTCI4FN8       0.11      0.26      0.15        86\n",
      "  PESTCI4FNG       0.00      0.00      0.00       264\n",
      "  PESTCI4FXQ       0.00      0.00      0.00       183\n",
      "  PESTCI4HYM       0.08      0.85      0.15        93\n",
      "  PESTCI4HYS       0.82      0.84      0.83        91\n",
      "  PESTCI4IGS       0.00      0.00      0.00       106\n",
      "  PESTCI4IJM       0.00      0.00      0.00       142\n",
      "  PESTCI4KNA       0.14      0.21      0.17        48\n",
      "  PESTCI4SUG       0.20      0.01      0.02        78\n",
      "  PESTCI6CBQ       0.97      0.92      0.95        39\n",
      "  XESTCI9VN2       0.84      0.80      0.82       116\n",
      "  XESTCIB26U       0.26      0.22      0.24        49\n",
      "  XESTCIB26W       0.00      0.00      0.00        78\n",
      "  XESTCIB2R4       0.17      0.01      0.02        77\n",
      "  XESTCIB4FU       1.00      0.03      0.06       229\n",
      "  XESTCIBCSG       0.00      0.00      0.00       178\n",
      "  XESTCIBCTW       0.14      0.77      0.24        79\n",
      "  XESTCIBIDK       0.00      0.00      0.00       110\n",
      "  XESTCIBO3U       0.11      0.00      0.01       225\n",
      "  XESTCIBPNI       0.00      0.00      0.00       142\n",
      "  XESTCIBSBI       0.82      0.22      0.35       146\n",
      "  XESTCIC1JG       0.09      0.94      0.16        50\n",
      "\n",
      "    accuracy                           0.20      2706\n",
      "   macro avg       0.27      0.29      0.20      2706\n",
      "weighted avg       0.26      0.20      0.14      2706\n",
      "\n"
     ]
    }
   ],
   "source": [
    "from sklearn.naive_bayes import GaussianNB\n",
    "classifier = GaussianNB()\n",
    "classifier.fit(X_trainS, y_train)\n",
    "y_pred = classifier.predict(X_testS)\n",
    "print('\\nAccuracy score:', accuracy_score(y_test, y_pred) )\n",
    "print('\\n',classification_report(y_test, y_pred))"
   ]
  },
  {
   "cell_type": "markdown",
   "id": "vital-dakota",
   "metadata": {},
   "source": [
    "**Principal Component Analysis (PCA)**"
   ]
  },
  {
   "cell_type": "code",
   "execution_count": 19,
   "id": "indoor-senator",
   "metadata": {},
   "outputs": [
    {
     "name": "stdout",
     "output_type": "stream",
     "text": [
      "\n",
      "Accuracy score: 0.33739837398373984\n",
      "\n",
      "               precision    recall  f1-score   support\n",
      "\n",
      "  LESTCI4FWU       0.09      0.02      0.04        42\n",
      "  PESTCI4FLK       0.33      0.93      0.49        55\n",
      "  PESTCI4FN8       0.00      0.00      0.00        86\n",
      "  PESTCI4FNG       0.17      0.02      0.03       264\n",
      "  PESTCI4FXQ       0.23      0.91      0.36       183\n",
      "  PESTCI4HYM       0.00      0.00      0.00        93\n",
      "  PESTCI4HYS       0.46      0.93      0.61        91\n",
      "  PESTCI4IGS       0.24      0.04      0.07       106\n",
      "  PESTCI4IJM       0.50      0.25      0.34       142\n",
      "  PESTCI4KNA       0.67      0.04      0.08        48\n",
      "  PESTCI4SUG       0.00      0.00      0.00        78\n",
      "  PESTCI6CBQ       0.51      0.87      0.64        39\n",
      "  XESTCI9VN2       0.20      0.01      0.02       116\n",
      "  XESTCIB26U       0.00      0.00      0.00        49\n",
      "  XESTCIB26W       0.00      0.00      0.00        78\n",
      "  XESTCIB2R4       0.00      0.00      0.00        77\n",
      "  XESTCIB4FU       0.42      0.99      0.59       229\n",
      "  XESTCIBCSG       0.46      0.95      0.62       178\n",
      "  XESTCIBCTW       0.27      0.38      0.32        79\n",
      "  XESTCIBIDK       0.00      0.00      0.00       110\n",
      "  XESTCIBO3U       0.15      0.22      0.18       225\n",
      "  XESTCIBPNI       0.00      0.00      0.00       142\n",
      "  XESTCIBSBI       0.65      0.36      0.47       146\n",
      "  XESTCIC1JG       0.00      0.00      0.00        50\n",
      "\n",
      "    accuracy                           0.34      2706\n",
      "   macro avg       0.22      0.29      0.20      2706\n",
      "weighted avg       0.24      0.34      0.23      2706\n",
      "\n"
     ]
    }
   ],
   "source": [
    "from sklearn.naive_bayes import GaussianNB\n",
    "classifier = GaussianNB()\n",
    "classifier.fit(X_trainP, y_train)\n",
    "y_pred = classifier.predict(X_testP)\n",
    "print('\\nAccuracy score:', accuracy_score(y_test, y_pred) )\n",
    "print('\\n',classification_report(y_test, y_pred))"
   ]
  },
  {
   "cell_type": "markdown",
   "id": "smart-aurora",
   "metadata": {},
   "source": [
    "**Kernel principal component analysis (KPCA)**"
   ]
  },
  {
   "cell_type": "code",
   "execution_count": 20,
   "id": "unknown-chicago",
   "metadata": {},
   "outputs": [
    {
     "name": "stdout",
     "output_type": "stream",
     "text": [
      "\n",
      "Accuracy score: 0.13710273466371029\n",
      "\n",
      "               precision    recall  f1-score   support\n",
      "\n",
      "  LESTCI4FWU       0.00      0.00      0.00        42\n",
      "  PESTCI4FLK       0.02      0.07      0.03        55\n",
      "  PESTCI4FN8       0.00      0.00      0.00        86\n",
      "  PESTCI4FNG       0.32      0.16      0.21       264\n",
      "  PESTCI4FXQ       0.35      0.16      0.22       183\n",
      "  PESTCI4HYM       0.00      0.00      0.00        93\n",
      "  PESTCI4HYS       0.09      0.56      0.16        91\n",
      "  PESTCI4IGS       0.67      0.02      0.04       106\n",
      "  PESTCI4IJM       0.06      0.06      0.06       142\n",
      "  PESTCI4KNA       0.00      0.00      0.00        48\n",
      "  PESTCI4SUG       0.00      0.00      0.00        78\n",
      "  PESTCI6CBQ       0.04      0.03      0.03        39\n",
      "  XESTCI9VN2       0.08      0.47      0.13       116\n",
      "  XESTCIB26U       0.00      0.00      0.00        49\n",
      "  XESTCIB26W       0.00      0.00      0.00        78\n",
      "  XESTCIB2R4       0.00      0.00      0.00        77\n",
      "  XESTCIB4FU       0.18      0.41      0.25       229\n",
      "  XESTCIBCSG       0.44      0.33      0.37       178\n",
      "  XESTCIBCTW       0.00      0.00      0.00        79\n",
      "  XESTCIBIDK       0.22      0.05      0.09       110\n",
      "  XESTCIBO3U       0.03      0.01      0.01       225\n",
      "  XESTCIBPNI       0.00      0.00      0.00       142\n",
      "  XESTCIBSBI       0.18      0.12      0.15       146\n",
      "  XESTCIC1JG       0.00      0.00      0.00        50\n",
      "\n",
      "    accuracy                           0.14      2706\n",
      "   macro avg       0.11      0.10      0.07      2706\n",
      "weighted avg       0.16      0.14      0.11      2706\n",
      "\n"
     ]
    }
   ],
   "source": [
    "from sklearn.naive_bayes import GaussianNB\n",
    "classifier = GaussianNB()\n",
    "classifier.fit(X_trainK, y_train)\n",
    "y_pred = classifier.predict(X_testK)\n",
    "print('\\nAccuracy score:', accuracy_score(y_test, y_pred) )\n",
    "print('\\n',classification_report(y_test, y_pred))"
   ]
  },
  {
   "cell_type": "markdown",
   "id": "honest-venezuela",
   "metadata": {},
   "source": [
    "This algorithm does not work well, it gives a very low accuracy in all cases. Transformed the data with a PCA, (**Accuracy: 0,3373**). Naive Bayes works with the probabilities of belonging to the group"
   ]
  },
  {
   "cell_type": "markdown",
   "id": "scientific-palestinian",
   "metadata": {},
   "source": [
    "### Support Vector Machines"
   ]
  },
  {
   "cell_type": "code",
   "execution_count": 21,
   "id": "smoking-parent",
   "metadata": {},
   "outputs": [
    {
     "name": "stdout",
     "output_type": "stream",
     "text": [
      "\n",
      "Accuracy score: 0.44124168514412415\n",
      "\n",
      "               precision    recall  f1-score   support\n",
      "\n",
      "  LESTCI4FWU       0.00      0.00      0.00        42\n",
      "  PESTCI4FLK       0.49      0.53      0.51        55\n",
      "  PESTCI4FN8       0.00      0.00      0.00        86\n",
      "  PESTCI4FNG       0.28      0.74      0.41       264\n",
      "  PESTCI4FXQ       0.33      0.02      0.03       183\n",
      "  PESTCI4HYM       0.00      0.00      0.00        93\n",
      "  PESTCI4HYS       0.99      0.91      0.95        91\n",
      "  PESTCI4IGS       0.40      0.28      0.33       106\n",
      "  PESTCI4IJM       0.87      0.68      0.76       142\n",
      "  PESTCI4KNA       0.42      0.31      0.36        48\n",
      "  PESTCI4SUG       0.00      0.00      0.00        78\n",
      "  PESTCI6CBQ       0.95      0.46      0.62        39\n",
      "  XESTCI9VN2       0.93      0.97      0.95       116\n",
      "  XESTCIB26U       0.00      0.00      0.00        49\n",
      "  XESTCIB26W       0.00      0.00      0.00        78\n",
      "  XESTCIB2R4       0.00      0.00      0.00        77\n",
      "  XESTCIB4FU       0.45      0.96      0.61       229\n",
      "  XESTCIBCSG       0.49      0.97      0.65       178\n",
      "  XESTCIBCTW       0.65      0.52      0.58        79\n",
      "  XESTCIBIDK       0.59      0.34      0.43       110\n",
      "  XESTCIBO3U       0.22      0.45      0.29       225\n",
      "  XESTCIBPNI       0.00      0.00      0.00       142\n",
      "  XESTCIBSBI       0.76      0.26      0.39       146\n",
      "  XESTCIC1JG       0.00      0.00      0.00        50\n",
      "\n",
      "    accuracy                           0.44      2706\n",
      "   macro avg       0.37      0.35      0.33      2706\n",
      "weighted avg       0.39      0.44      0.37      2706\n",
      "\n"
     ]
    }
   ],
   "source": [
    "from sklearn.svm import SVC\n",
    "svc=SVC(kernel='poly', gamma='scale')\n",
    "svc.fit(X_train, y_train)\n",
    "y_pred=svc.predict(X_test)\n",
    "print('\\nAccuracy score:', accuracy_score(y_test, y_pred) )\n",
    "print('\\n',classification_report(y_test, y_pred))"
   ]
  },
  {
   "cell_type": "markdown",
   "id": "incorrect-canyon",
   "metadata": {},
   "source": [
    "**Standardising our features**"
   ]
  },
  {
   "cell_type": "code",
   "execution_count": 22,
   "id": "inner-conservation",
   "metadata": {},
   "outputs": [
    {
     "name": "stdout",
     "output_type": "stream",
     "text": [
      "\n",
      "Accuracy score: 0.4109386548410939\n",
      "\n",
      "               precision    recall  f1-score   support\n",
      "\n",
      "  LESTCI4FWU       0.67      0.52      0.59        42\n",
      "  PESTCI4FLK       0.57      0.15      0.23        55\n",
      "  PESTCI4FN8       0.31      0.06      0.10        86\n",
      "  PESTCI4FNG       0.20      0.68      0.31       264\n",
      "  PESTCI4FXQ       0.32      0.25      0.28       183\n",
      "  PESTCI4HYM       0.00      0.00      0.00        93\n",
      "  PESTCI4HYS       0.99      0.93      0.96        91\n",
      "  PESTCI4IGS       0.33      0.18      0.23       106\n",
      "  PESTCI4IJM       0.83      0.61      0.70       142\n",
      "  PESTCI4KNA       0.52      0.33      0.41        48\n",
      "  PESTCI4SUG       0.12      0.01      0.02        78\n",
      "  PESTCI6CBQ       0.00      0.00      0.00        39\n",
      "  XESTCI9VN2       0.96      0.96      0.96       116\n",
      "  XESTCIB26U       0.33      0.20      0.25        49\n",
      "  XESTCIB26W       0.20      0.01      0.02        78\n",
      "  XESTCIB2R4       0.00      0.00      0.00        77\n",
      "  XESTCIB4FU       0.53      0.79      0.63       229\n",
      "  XESTCIBCSG       0.38      0.85      0.52       178\n",
      "  XESTCIBCTW       0.54      0.09      0.15        79\n",
      "  XESTCIBIDK       0.51      0.23      0.31       110\n",
      "  XESTCIBO3U       0.34      0.33      0.34       225\n",
      "  XESTCIBPNI       0.36      0.06      0.11       142\n",
      "  XESTCIBSBI       0.74      0.53      0.62       146\n",
      "  XESTCIC1JG       0.00      0.00      0.00        50\n",
      "\n",
      "    accuracy                           0.41      2706\n",
      "   macro avg       0.41      0.32      0.32      2706\n",
      "weighted avg       0.42      0.41      0.37      2706\n",
      "\n"
     ]
    }
   ],
   "source": [
    "from sklearn.svm import SVC\n",
    "svc=SVC(kernel='poly', gamma='scale')\n",
    "svc.fit(X_trainS, y_train)\n",
    "y_pred=svc.predict(X_testS)\n",
    "print('\\nAccuracy score:', accuracy_score(y_test, y_pred) )\n",
    "print('\\n',classification_report(y_test, y_pred))"
   ]
  },
  {
   "cell_type": "markdown",
   "id": "great-index",
   "metadata": {},
   "source": [
    "**Principal Component Analysis (PCA)**"
   ]
  },
  {
   "cell_type": "code",
   "execution_count": 23,
   "id": "chemical-savage",
   "metadata": {},
   "outputs": [
    {
     "name": "stdout",
     "output_type": "stream",
     "text": [
      "\n",
      "Accuracy score: 0.3625277161862528\n",
      "\n",
      "               precision    recall  f1-score   support\n",
      "\n",
      "  LESTCI4FWU       0.00      0.00      0.00        42\n",
      "  PESTCI4FLK       0.33      0.02      0.03        55\n",
      "  PESTCI4FN8       0.00      0.00      0.00        86\n",
      "  PESTCI4FNG       0.18      0.92      0.30       264\n",
      "  PESTCI4FXQ       0.00      0.00      0.00       183\n",
      "  PESTCI4HYM       0.00      0.00      0.00        93\n",
      "  PESTCI4HYS       0.98      0.91      0.94        91\n",
      "  PESTCI4IGS       0.50      0.01      0.02       106\n",
      "  PESTCI4IJM       0.52      0.68      0.59       142\n",
      "  PESTCI4KNA       0.50      0.04      0.08        48\n",
      "  PESTCI4SUG       0.00      0.00      0.00        78\n",
      "  PESTCI6CBQ       0.00      0.00      0.00        39\n",
      "  XESTCI9VN2       0.93      0.96      0.94       116\n",
      "  XESTCIB26U       0.00      0.00      0.00        49\n",
      "  XESTCIB26W       0.00      0.00      0.00        78\n",
      "  XESTCIB2R4       0.00      0.00      0.00        77\n",
      "  XESTCIB4FU       0.38      1.00      0.55       229\n",
      "  XESTCIBCSG       0.55      0.96      0.70       178\n",
      "  XESTCIBCTW       0.00      0.00      0.00        79\n",
      "  XESTCIBIDK       0.00      0.00      0.00       110\n",
      "  XESTCIBO3U       0.00      0.00      0.00       225\n",
      "  XESTCIBPNI       0.00      0.00      0.00       142\n",
      "  XESTCIBSBI       0.94      0.31      0.46       146\n",
      "  XESTCIC1JG       0.00      0.00      0.00        50\n",
      "\n",
      "    accuracy                           0.36      2706\n",
      "   macro avg       0.24      0.24      0.19      2706\n",
      "weighted avg       0.27      0.36      0.25      2706\n",
      "\n"
     ]
    }
   ],
   "source": [
    "from sklearn.svm import SVC\n",
    "svc=SVC(kernel='poly', gamma='scale')\n",
    "svc.fit(X_trainP, y_train)\n",
    "y_pred=svc.predict(X_testP)\n",
    "print('\\nAccuracy score:', accuracy_score(y_test, y_pred) )\n",
    "print('\\n',classification_report(y_test, y_pred))"
   ]
  },
  {
   "cell_type": "markdown",
   "id": "integral-width",
   "metadata": {},
   "source": [
    "**Kernel principal component analysis (KPCA)**\n"
   ]
  },
  {
   "cell_type": "code",
   "execution_count": 24,
   "id": "following-saudi",
   "metadata": {},
   "outputs": [
    {
     "name": "stdout",
     "output_type": "stream",
     "text": [
      "\n",
      "Accuracy score: 0.13636363636363635\n",
      "\n",
      "               precision    recall  f1-score   support\n",
      "\n",
      "  LESTCI4FWU       0.00      0.00      0.00        42\n",
      "  PESTCI4FLK       0.00      0.00      0.00        55\n",
      "  PESTCI4FN8       0.00      0.00      0.00        86\n",
      "  PESTCI4FNG       0.26      0.24      0.25       264\n",
      "  PESTCI4FXQ       0.47      0.08      0.13       183\n",
      "  PESTCI4HYM       0.00      0.00      0.00        93\n",
      "  PESTCI4HYS       0.00      0.00      0.00        91\n",
      "  PESTCI4IGS       0.00      0.00      0.00       106\n",
      "  PESTCI4IJM       0.00      0.00      0.00       142\n",
      "  PESTCI4KNA       0.00      0.00      0.00        48\n",
      "  PESTCI4SUG       0.00      0.00      0.00        78\n",
      "  PESTCI6CBQ       0.00      0.00      0.00        39\n",
      "  XESTCI9VN2       0.00      0.00      0.00       116\n",
      "  XESTCIB26U       0.00      0.00      0.00        49\n",
      "  XESTCIB26W       0.00      0.00      0.00        78\n",
      "  XESTCIB2R4       0.00      0.00      0.00        77\n",
      "  XESTCIB4FU       0.10      1.00      0.18       229\n",
      "  XESTCIBCSG       0.50      0.35      0.41       178\n",
      "  XESTCIBCTW       0.00      0.00      0.00        79\n",
      "  XESTCIBIDK       0.00      0.00      0.00       110\n",
      "  XESTCIBO3U       0.00      0.00      0.00       225\n",
      "  XESTCIBPNI       0.00      0.00      0.00       142\n",
      "  XESTCIBSBI       0.00      0.00      0.00       146\n",
      "  XESTCIC1JG       0.00      0.00      0.00        50\n",
      "\n",
      "    accuracy                           0.14      2706\n",
      "   macro avg       0.06      0.07      0.04      2706\n",
      "weighted avg       0.10      0.14      0.08      2706\n",
      "\n"
     ]
    }
   ],
   "source": [
    "from sklearn.svm import SVC\n",
    "svc=SVC(kernel='poly', gamma='scale')\n",
    "svc.fit(X_trainK, y_train)\n",
    "y_pred=svc.predict(X_testK)\n",
    "print('\\nAccuracy score:', accuracy_score(y_test, y_pred) )\n",
    "print('\\n',classification_report(y_test, y_pred))"
   ]
  },
  {
   "cell_type": "markdown",
   "id": "comparable-mileage",
   "metadata": {},
   "source": [
    "For the SVC, the best accuracy is given for the data without any transformation, this is because it works with hyperplanes. Trying to find the one that best separates the different instances. \n",
    "\n",
    "# CONCLUSIONS:\n",
    "\n",
    "None of these 3 algorithms give us enough confidence (accuracy) to be considered as models with which our data can learn. We have performed some transformations on the features before using any machine learning models, but we have not been able to improve the models either. The main reasons why they do not work with these models is the basis on which the models are based.\n",
    "\n",
    "**Naive Bayes** is a probabilistic classifier based on Bayes' theorem, working with probabilities to make predictions of group membership or class assignment. In our case, the reason why this model does not work is because of the weight of the feature, **i_avg_sales **. As it is more important than the rest, it is a determining factor in deciding whether to belong or not.\n",
    "\n",
    "**K-Nearest Neighbors**, is based on the calculation of distances, there is no learning. Due to this characteristic, the most advisable when using this algorithm is to perform a **PCA**, applying it to our data, we obtain an accuracy of 0.3. So we can conclude that this algorithm is not valid for my data. \n",
    "\n",
    "\n",
    "**Support Vector Machines**, I seek to find the best hyperplane that separates the different instances, trying to obtain the optimal, non-linear one. It is mostly used for non-text and non-image classification.  With our data it has not worked, the maximum accuracy we have obtained is 0.44. We could not find hyperplanes separating our classes.\n",
    "\n",
    "As we see that these models do not work, we will rely on trees (decision trees, random forest, extratrees, ensembles...).\n",
    "\n",
    "\n",
    "\n",
    "\n"
   ]
  }
 ],
 "metadata": {
  "kernelspec": {
   "display_name": "Python 3",
   "language": "python",
   "name": "python3"
  },
  "language_info": {
   "codemirror_mode": {
    "name": "ipython",
    "version": 3
   },
   "file_extension": ".py",
   "mimetype": "text/x-python",
   "name": "python",
   "nbconvert_exporter": "python",
   "pygments_lexer": "ipython3",
   "version": "3.7.9"
  }
 },
 "nbformat": 4,
 "nbformat_minor": 5
}
